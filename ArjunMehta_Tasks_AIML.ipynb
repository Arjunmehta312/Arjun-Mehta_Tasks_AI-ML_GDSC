{
 "cells": [
  {
   "cell_type": "markdown",
   "id": "c461c312-b75d-4290-b9db-3726198ab90c",
   "metadata": {},
   "source": [
    "### Arjun Mehta\n",
    "### AI/ML Tasks\n",
    "### B. Tech Cybersecurity\n",
    "### K036"
   ]
  },
  {
   "cell_type": "markdown",
   "id": "9157ca51-0aa8-453b-951f-b1f016c25ea7",
   "metadata": {},
   "source": [
    "Task 1"
   ]
  },
  {
   "cell_type": "code",
   "execution_count": 1,
   "id": "14c134f8-4dea-4a31-8465-3591ce432507",
   "metadata": {},
   "outputs": [
    {
     "name": "stdin",
     "output_type": "stream",
     "text": [
      "Enter the number of elements=  5\n",
      "Enter an integer=  1\n",
      "Enter an integer=  2\n",
      "Enter an integer=  3\n",
      "Enter an integer=  4\n",
      "Enter an integer=  5\n"
     ]
    },
    {
     "name": "stdout",
     "output_type": "stream",
     "text": [
      "Sum of even numbers: 6\n"
     ]
    }
   ],
   "source": [
    "def even_sum():\n",
    "    try:\n",
    "        count=int(input(\"Enter the number of elements= \"))\n",
    "        numbers=[]\n",
    "        for _ in range(count):\n",
    "            n=int(input(\"Enter an integer= \"))\n",
    "            numbers.append(n)\n",
    "        \n",
    "        even_sum=0\n",
    "        for n in numbers:\n",
    "            if n%2==0:\n",
    "                even_sum+=n\n",
    "        \n",
    "        return even_sum\n",
    "    except ValueError:\n",
    "        print(\"Invalid input. Please enter valid integers.\")\n",
    "\n",
    "result=even_sum()\n",
    "print(f\"Sum of even numbers:\",result)"
   ]
  },
  {
   "cell_type": "markdown",
   "id": "e8150ced-c2e5-4af8-8c99-4600b9a9c0ef",
   "metadata": {},
   "source": [
    "Task 2"
   ]
  },
  {
   "cell_type": "code",
   "execution_count": 2,
   "id": "81f07493-e918-43a6-8b4c-44e28e463b0f",
   "metadata": {},
   "outputs": [
    {
     "name": "stdin",
     "output_type": "stream",
     "text": [
      "Enter input text=  hi my name is .\n"
     ]
    },
    {
     "name": "stdout",
     "output_type": "stream",
     "text": [
      "Word counts=\n",
      "hi-1\n",
      "my-1\n",
      "name-1\n",
      "is-1\n"
     ]
    }
   ],
   "source": [
    "def counter(sentence):\n",
    "    word_counts={}\n",
    "    words=sentence.split()\n",
    "\n",
    "    for word in words:\n",
    "        cleaned_word=''.join(c for c in word if c.isalnum()).lower()\n",
    "\n",
    "        if cleaned_word:\n",
    "            word_counts[cleaned_word]=word_counts.get(cleaned_word,0)+1\n",
    "    return word_counts\n",
    "\n",
    "input_string=input(\"Enter input text= \")\n",
    "result=counter(input_string)\n",
    "\n",
    "if result:\n",
    "    print(\"Word counts=\")\n",
    "    for word, count in result.items():\n",
    "        print(f\"{word}-{count}\")\n",
    "else:\n",
    "    print(\"No input provided.\")"
   ]
  },
  {
   "cell_type": "code",
   "execution_count": 12,
   "id": "d2a0abe8-8a65-462b-a5f6-e30e848eed68",
   "metadata": {},
   "outputs": [
    {
     "name": "stdout",
     "output_type": "stream",
     "text": [
      "R² Score=0.580817311872272\n",
      "Predicted price for a 1200 sq ft house: $229969.62\n"
     ]
    }
   ],
   "source": [
    "from sklearn.metrics import r2_score\n",
    "from sklearn.linear_model import LinearRegression\n",
    "import numpy as np\n",
    "\n",
    "def prediction(sizes,prices):\n",
    "    X=np.array(sizes).reshape(-1,1)\n",
    "    y=np.array(prices)\n",
    "\n",
    "    mode =LinearRegression()\n",
    "    model.fit(X,y)\n",
    "    y_pred=model.predict(X)\n",
    "    r2=r2_score(y,y_pred)\n",
    "    return model, r2\n",
    "\n",
    "sizes=[1400,1600,1700,1875,1100,1550,2350,2450,1425,1700]\n",
    "prices=[245000,312000,279000,308000,199000, 219000,405000,324000,319000,255000]\n",
    "\n",
    "model, r2_score=prediction(sizes, prices)\n",
    "\n",
    "print(f\"R² Score={r2_score}\")\n",
    "\n",
    "new_size=1200\n",
    "predicted_price=model.predict([[new_size]])\n",
    "print(f\"Predicted price for a {new_size} sq ft house: ${predicted_price[0]:.2f}\")"
   ]
  }
 ],
 "metadata": {
  "kernelspec": {
   "display_name": "Python 3 (ipykernel)",
   "language": "python",
   "name": "python3"
  },
  "language_info": {
   "codemirror_mode": {
    "name": "ipython",
    "version": 3
   },
   "file_extension": ".py",
   "mimetype": "text/x-python",
   "name": "python",
   "nbconvert_exporter": "python",
   "pygments_lexer": "ipython3",
   "version": "3.11.4"
  }
 },
 "nbformat": 4,
 "nbformat_minor": 5
}
